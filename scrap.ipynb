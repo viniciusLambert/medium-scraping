{
 "cells": [
  {
   "cell_type": "markdown",
   "id": "5b24a0db",
   "metadata": {},
   "source": [
    "# Medium Scraping\n",
    "\n",
    "This notebook teach you how to collect articles data from Medium, filtering with tags and release date, and put it into a csv file.\n",
    "\n",
    "It was constructed based on [Dorian Lazar](https://dorianlazar.medium.com/) article that can be found \n",
    "[Here](https://dorianlazar.medium.com/scraping-medium-with-python-beautiful-soup-3314f898bbf5)\n"
   ]
  },
  {
   "cell_type": "markdown",
   "id": "23b79c88",
   "metadata": {},
   "source": [
    "## Scraping stages\n",
    "\n",
    "1. Create Filters\n",
    "2. Get all articles with selected tags and release date\n",
    "3. Iterates articles getting usefull infos\n"
   ]
  },
  {
   "cell_type": "code",
   "execution_count": 8,
   "id": "bab750d6",
   "metadata": {},
   "outputs": [],
   "source": [
    "# Import Tools\n",
    "\n",
    "import requests\n",
    "from bs4 import BeautifulSoup\n",
    "import pandas as pd\n",
    "import random"
   ]
  },
  {
   "cell_type": "markdown",
   "id": "5a8f02cd",
   "metadata": {},
   "source": [
    "## Create filters\n",
    "\n",
    "We need two three filtes.\n",
    "\n",
    "### tag_urls\n",
    "A dictionary named 'urls', where the key is the tag name and the values reference the url that access the Medium archives of an specific tag.\n"
   ]
  },
  {
   "cell_type": "code",
   "execution_count": 9,
   "id": "089b0562",
   "metadata": {},
   "outputs": [],
   "source": [
    "tag_urls = {\n",
    "    'Data Science': 'https://medium.com/tag/data-science/archive/{0}/{1:02d}/{2:02d}',\n",
    "    'Machine Learning': 'https://medium.com/tag/machine-learning/archive/{0}/{1:02d}/{2:02d}',\n",
    "    'Artificial Inteligence': 'https://medium.com/tag/artificial-intelligence/archive/{0}/{1:02d}/{2:02d}',\n",
    "    'Deep Learning': 'https://medium.com/tag/deep-learning/archive/{0}/{1:02d}/{2:02d}',\n",
    "    'Data': 'https://medium.com/tag/data/archive/{0}/{1:02d}/{2:02d}',\n",
    "    'Big Data': 'https://medium.com/tag/big-data/archive/{0}/{1:02d}/{2:02d}',\n",
    "    'Analytics': 'https://medium.com/tag/analytics/archive/{0}/{1:02d}/{2:02d}',\n",
    "}\n"
   ]
  },
  {
   "cell_type": "markdown",
   "id": "fae8e3d2",
   "metadata": {},
   "source": [
    "### year\n",
    "\n",
    "A integer that represents our articles release year.\n",
    "\n",
    "### selected_days\n",
    "\n",
    "This one is a bit more trick, it is a list on integers that represents the day of the year in sequential order.\n",
    "\n",
    "Where 1 represents january 1, and 366 represents December 31."
   ]
  },
  {
   "cell_type": "code",
   "execution_count": 10,
   "id": "cd8b79fe",
   "metadata": {},
   "outputs": [],
   "source": [
    "year = 2021\n",
    "#selected_days = [i for i in range(1, 366)] #Every day of the year\n",
    "selected_days = [i for i in range(1, 8)] #first week of the year"
   ]
  },
  {
   "cell_type": "markdown",
   "id": "af39bc90",
   "metadata": {},
   "source": [
    "## Create support functions"
   ]
  },
  {
   "cell_type": "code",
   "execution_count": 11,
   "id": "58b19d96",
   "metadata": {},
   "outputs": [],
   "source": [
    "def convert_day(day):\n",
    "    # if it is a leap year use month_days = [31, 29, 31, 30, 31, 30, 31, 31, 30, 31, 30, 31]\n",
    "    month_days = [31, 28, 31, 30, 31, 30, 31, 31, 30, 31, 30, 31]\n",
    "    m = 0\n",
    "    d = 0\n",
    "    while day > 0:\n",
    "        d = day\n",
    "        day -= month_days[m]\n",
    "        m += 1\n",
    "    return (m, d)"
   ]
  },
  {
   "cell_type": "code",
   "execution_count": 12,
   "id": "0f0c774c",
   "metadata": {},
   "outputs": [],
   "source": [
    "def get_claps(claps_str):\n",
    "    if (claps_str is None) or (claps_str == '') or (claps_str.split is None):\n",
    "        return 0\n",
    "    split = claps_str.split('K')\n",
    "    claps = float(split[0])\n",
    "    claps = int(claps*1000) if len(split) == 2 else int(claps)\n",
    "    return claps"
   ]
  },
  {
   "cell_type": "markdown",
   "id": "32a39f9f",
   "metadata": {},
   "source": [
    "## Collect Data\n",
    "\n",
    "Collect Medium data, and put it into a list called articles_data."
   ]
  },
  {
   "cell_type": "code",
   "execution_count": 13,
   "id": "089a38c0",
   "metadata": {
    "scrolled": true
   },
   "outputs": [
    {
     "name": "stdout",
     "output_type": "stream",
     "text": [
      "2021-01-01\n",
      "2021-01-02\n",
      "2021-01-03\n",
      "2021-01-04\n",
      "2021-01-05\n",
      "2021-01-06\n",
      "2021-01-07\n"
     ]
    }
   ],
   "source": [
    "articles_data = []\n",
    "article_id = 0\n",
    "n = len(selected_days)\n",
    "for d in selected_days:\n",
    "    month, day = convert_day(d)\n",
    "    date = '{0}-{1:02d}-{2:02d}'.format(year, month, day) \n",
    "    print(f'{date}')\n",
    "    for tag, url in tag_urls.items(): \n",
    "        response = requests.get(url.format(year, month, day), allow_redirects=True)\n",
    "        if not response.url.startswith(url.format(year, month, day)):\n",
    "            continue\n",
    "        page = response.content\n",
    "        soup = BeautifulSoup(page, 'html.parser')\n",
    "        articles = soup.find_all(\n",
    "            \"div\",\n",
    "            class_=\"postArticle postArticle--short js-postArticle js-trackPostPresentation js-trackPostScrolls\")\n",
    "        \n",
    "        for article in articles:\n",
    "            \n",
    "            title = article.find(\"h3\", class_=\"graf--title\")\n",
    "            if title is None:\n",
    "                continue\n",
    "            title = title.contents[0]\n",
    "            \n",
    "            author = article.find_all(\"a\")[0]['href'].split('?')[0].split('@')[1]\n",
    "            author_url = article.find_all(\"a\")[0]['href'].split('?')[0]\n",
    "            \n",
    "            subtitle = article.find(\"h4\", class_=\"graf--subtitle\")\n",
    "            subtitle = subtitle.contents[0] if subtitle is not None else ''\n",
    "            \n",
    "            article_url = article.find_all(\"a\")[3]['href'].split('?')[0]\n",
    "            \n",
    "            claps = get_claps(article.find_all(\"button\")[1].contents[0])\n",
    "            \n",
    "            reading_time = article.find(\"span\", class_=\"readingTime\")\n",
    "            reading_time = 0 if reading_time is None else int(reading_time['title'].split(' ')[0])\n",
    "            \n",
    "            responses = article.find_all(\"a\")\n",
    "            if len(responses) == 7:\n",
    "                responses = responses[6].contents[0].split(' ')\n",
    "                if len(responses) == 0:\n",
    "                    responses = 0\n",
    "                else:\n",
    "                    responses = responses[0]\n",
    "            else:\n",
    "                responses = 0\n",
    "\n",
    "            articles_data.append([article_url, title,\n",
    "                         author, author_url,\n",
    "                         subtitle, claps, responses,\n",
    "                         reading_time, tag, date])"
   ]
  },
  {
   "cell_type": "code",
   "execution_count": 14,
   "id": "cc37c8fa",
   "metadata": {
    "scrolled": true
   },
   "outputs": [],
   "source": [
    "# Transform article data into panda dataframe.\n",
    "medium_df = pd.DataFrame(articles_data, columns=[\n",
    "    'url', 'title', 'author', 'author_page',\n",
    "    'subtitle', 'claps', 'responses', 'reading_time',\n",
    "    'tag', 'date'])"
   ]
  },
  {
   "cell_type": "markdown",
   "id": "f7d9b67d",
   "metadata": {},
   "source": [
    "## Remove duplicated data\n",
    "\n",
    "As we can search about similar tags, it can bring the same articles in different iteration, so we need to clean our collected data.\n",
    "\n",
    "We do it using the panda fucntion drop_duplicates."
   ]
  },
  {
   "cell_type": "code",
   "execution_count": 15,
   "id": "8859b426",
   "metadata": {},
   "outputs": [
    {
     "data": {
      "text/plain": [
       "(3074, 10)"
      ]
     },
     "execution_count": 15,
     "metadata": {},
     "output_type": "execute_result"
    }
   ],
   "source": [
    "medium_df.shape"
   ]
  },
  {
   "cell_type": "code",
   "execution_count": 16,
   "id": "c12b9b95",
   "metadata": {},
   "outputs": [],
   "source": [
    "medium_df = medium_df.drop_duplicates(subset=['url', 'title'], keep='first')"
   ]
  },
  {
   "cell_type": "markdown",
   "id": "44beade7",
   "metadata": {},
   "source": [
    "## The final data\n",
    "\n",
    "Lets take a look of how our collected data looks like."
   ]
  },
  {
   "cell_type": "code",
   "execution_count": 17,
   "id": "66548f89",
   "metadata": {
    "scrolled": true
   },
   "outputs": [
    {
     "data": {
      "text/plain": [
       "(2002, 10)"
      ]
     },
     "execution_count": 17,
     "metadata": {},
     "output_type": "execute_result"
    }
   ],
   "source": [
    "medium_df.shape"
   ]
  },
  {
   "cell_type": "code",
   "execution_count": 18,
   "id": "bc1aa138",
   "metadata": {
    "scrolled": true
   },
   "outputs": [
    {
     "data": {
      "text/html": [
       "<div>\n",
       "<style scoped>\n",
       "    .dataframe tbody tr th:only-of-type {\n",
       "        vertical-align: middle;\n",
       "    }\n",
       "\n",
       "    .dataframe tbody tr th {\n",
       "        vertical-align: top;\n",
       "    }\n",
       "\n",
       "    .dataframe thead th {\n",
       "        text-align: right;\n",
       "    }\n",
       "</style>\n",
       "<table border=\"1\" class=\"dataframe\">\n",
       "  <thead>\n",
       "    <tr style=\"text-align: right;\">\n",
       "      <th></th>\n",
       "      <th>url</th>\n",
       "      <th>title</th>\n",
       "      <th>author</th>\n",
       "      <th>author_page</th>\n",
       "      <th>subtitle</th>\n",
       "      <th>claps</th>\n",
       "      <th>responses</th>\n",
       "      <th>reading_time</th>\n",
       "      <th>tag</th>\n",
       "      <th>date</th>\n",
       "    </tr>\n",
       "  </thead>\n",
       "  <tbody>\n",
       "    <tr>\n",
       "      <th>0</th>\n",
       "      <td>https://medium.com/coders-camp/180-data-scienc...</td>\n",
       "      <td>180 Data Science and Machine Learning Projects...</td>\n",
       "      <td>amankharwal</td>\n",
       "      <td>https://medium.com/@amankharwal</td>\n",
       "      <td>180 Data Science and Machine Learning…</td>\n",
       "      <td>1100</td>\n",
       "      <td>4</td>\n",
       "      <td>4</td>\n",
       "      <td>Data Science</td>\n",
       "      <td>2021-01-01</td>\n",
       "    </tr>\n",
       "    <tr>\n",
       "      <th>1</th>\n",
       "      <td>https://towardsdatascience.com/7-most-recommen...</td>\n",
       "      <td>7 Most Recommended Skills to Learn in 2021 to ...</td>\n",
       "      <td>terenceshin</td>\n",
       "      <td>https://towardsdatascience.com/@terenceshin</td>\n",
       "      <td>Recommended by some of the largest…</td>\n",
       "      <td>1000</td>\n",
       "      <td>10</td>\n",
       "      <td>6</td>\n",
       "      <td>Data Science</td>\n",
       "      <td>2021-01-01</td>\n",
       "    </tr>\n",
       "    <tr>\n",
       "      <th>2</th>\n",
       "      <td>https://towardsdatascience.com/implementing-vi...</td>\n",
       "      <td>Implementing VisualTtransformer in PyTorch</td>\n",
       "      <td>FrancescoZ</td>\n",
       "      <td>https://towardsdatascience.com/@FrancescoZ</td>\n",
       "      <td>Hi guys, happy new year! Today we are going to...</td>\n",
       "      <td>257</td>\n",
       "      <td>4</td>\n",
       "      <td>6</td>\n",
       "      <td>Data Science</td>\n",
       "      <td>2021-01-01</td>\n",
       "    </tr>\n",
       "    <tr>\n",
       "      <th>3</th>\n",
       "      <td>https://towardsdatascience.com/optimal-thresho...</td>\n",
       "      <td>Optimal Threshold for Imbalanced Classification</td>\n",
       "      <td>audhiaprilliant</td>\n",
       "      <td>https://towardsdatascience.com/@audhiaprilliant</td>\n",
       "      <td>How to choose the…</td>\n",
       "      <td>223</td>\n",
       "      <td>3</td>\n",
       "      <td>7</td>\n",
       "      <td>Data Science</td>\n",
       "      <td>2021-01-01</td>\n",
       "    </tr>\n",
       "    <tr>\n",
       "      <th>4</th>\n",
       "      <td>https://towardsdatascience.com/understanding-t...</td>\n",
       "      <td>Understanding the Confusion Matrix from Scikit...</td>\n",
       "      <td>samarthagrawal86</td>\n",
       "      <td>https://towardsdatascience.com/@samarthagrawal86</td>\n",
       "      <td>Clear representation of output of confusion…</td>\n",
       "      <td>190</td>\n",
       "      <td>5</td>\n",
       "      <td>5</td>\n",
       "      <td>Data Science</td>\n",
       "      <td>2021-01-01</td>\n",
       "    </tr>\n",
       "    <tr>\n",
       "      <th>...</th>\n",
       "      <td>...</td>\n",
       "      <td>...</td>\n",
       "      <td>...</td>\n",
       "      <td>...</td>\n",
       "      <td>...</td>\n",
       "      <td>...</td>\n",
       "      <td>...</td>\n",
       "      <td>...</td>\n",
       "      <td>...</td>\n",
       "      <td>...</td>\n",
       "    </tr>\n",
       "    <tr>\n",
       "      <th>3069</th>\n",
       "      <td>https://medium.com/smartbug-media/5-steps-to-s...</td>\n",
       "      <td>5 Steps to Successfully Measure Sales and Mark...</td>\n",
       "      <td>stephenlackeythemarketer</td>\n",
       "      <td>https://medium.com/@stephenlackeythemarketer</td>\n",
       "      <td></td>\n",
       "      <td>0</td>\n",
       "      <td>0</td>\n",
       "      <td>4</td>\n",
       "      <td>Analytics</td>\n",
       "      <td>2021-01-07</td>\n",
       "    </tr>\n",
       "    <tr>\n",
       "      <th>3070</th>\n",
       "      <td>https://medium.com/@niefeld/privacy-cookies-f1...</td>\n",
       "      <td>Privacy ❤ cookies</td>\n",
       "      <td>niefeld</td>\n",
       "      <td>https://medium.com/@niefeld</td>\n",
       "      <td></td>\n",
       "      <td>0</td>\n",
       "      <td>0</td>\n",
       "      <td>2</td>\n",
       "      <td>Analytics</td>\n",
       "      <td>2021-01-07</td>\n",
       "    </tr>\n",
       "    <tr>\n",
       "      <th>3071</th>\n",
       "      <td>https://medium.com/@logic2020/analytics-trends...</td>\n",
       "      <td>Analytics trends in 2021: what to expect</td>\n",
       "      <td>logic2020</td>\n",
       "      <td>https://medium.com/@logic2020</td>\n",
       "      <td></td>\n",
       "      <td>0</td>\n",
       "      <td>0</td>\n",
       "      <td>4</td>\n",
       "      <td>Analytics</td>\n",
       "      <td>2021-01-07</td>\n",
       "    </tr>\n",
       "    <tr>\n",
       "      <th>3072</th>\n",
       "      <td>https://medium.com/@bit-team/bitcoin-price-bre...</td>\n",
       "      <td>Bitcoin price breaks the $ 37,000 resistance. ...</td>\n",
       "      <td>bit-team</td>\n",
       "      <td>https://medium.com/@bit-team</td>\n",
       "      <td></td>\n",
       "      <td>0</td>\n",
       "      <td>0</td>\n",
       "      <td>3</td>\n",
       "      <td>Analytics</td>\n",
       "      <td>2021-01-07</td>\n",
       "    </tr>\n",
       "    <tr>\n",
       "      <th>3073</th>\n",
       "      <td>https://medium.com/@patrickchung41/benefits-of...</td>\n",
       "      <td>Benefits of Analytics in Online Marketing. — A...</td>\n",
       "      <td>patrickchung41</td>\n",
       "      <td>https://medium.com/@patrickchung41</td>\n",
       "      <td></td>\n",
       "      <td>0</td>\n",
       "      <td>0</td>\n",
       "      <td>6</td>\n",
       "      <td>Analytics</td>\n",
       "      <td>2021-01-07</td>\n",
       "    </tr>\n",
       "  </tbody>\n",
       "</table>\n",
       "<p>2002 rows × 10 columns</p>\n",
       "</div>"
      ],
      "text/plain": [
       "                                                    url  \\\n",
       "0     https://medium.com/coders-camp/180-data-scienc...   \n",
       "1     https://towardsdatascience.com/7-most-recommen...   \n",
       "2     https://towardsdatascience.com/implementing-vi...   \n",
       "3     https://towardsdatascience.com/optimal-thresho...   \n",
       "4     https://towardsdatascience.com/understanding-t...   \n",
       "...                                                 ...   \n",
       "3069  https://medium.com/smartbug-media/5-steps-to-s...   \n",
       "3070  https://medium.com/@niefeld/privacy-cookies-f1...   \n",
       "3071  https://medium.com/@logic2020/analytics-trends...   \n",
       "3072  https://medium.com/@bit-team/bitcoin-price-bre...   \n",
       "3073  https://medium.com/@patrickchung41/benefits-of...   \n",
       "\n",
       "                                                  title  \\\n",
       "0     180 Data Science and Machine Learning Projects...   \n",
       "1     7 Most Recommended Skills to Learn in 2021 to ...   \n",
       "2            Implementing VisualTtransformer in PyTorch   \n",
       "3       Optimal Threshold for Imbalanced Classification   \n",
       "4     Understanding the Confusion Matrix from Scikit...   \n",
       "...                                                 ...   \n",
       "3069  5 Steps to Successfully Measure Sales and Mark...   \n",
       "3070                                  Privacy ❤ cookies   \n",
       "3071           Analytics trends in 2021: what to expect   \n",
       "3072  Bitcoin price breaks the $ 37,000 resistance. ...   \n",
       "3073  Benefits of Analytics in Online Marketing. — A...   \n",
       "\n",
       "                        author  \\\n",
       "0                  amankharwal   \n",
       "1                  terenceshin   \n",
       "2                   FrancescoZ   \n",
       "3              audhiaprilliant   \n",
       "4             samarthagrawal86   \n",
       "...                        ...   \n",
       "3069  stephenlackeythemarketer   \n",
       "3070                   niefeld   \n",
       "3071                 logic2020   \n",
       "3072                  bit-team   \n",
       "3073            patrickchung41   \n",
       "\n",
       "                                           author_page  \\\n",
       "0                      https://medium.com/@amankharwal   \n",
       "1          https://towardsdatascience.com/@terenceshin   \n",
       "2           https://towardsdatascience.com/@FrancescoZ   \n",
       "3      https://towardsdatascience.com/@audhiaprilliant   \n",
       "4     https://towardsdatascience.com/@samarthagrawal86   \n",
       "...                                                ...   \n",
       "3069      https://medium.com/@stephenlackeythemarketer   \n",
       "3070                       https://medium.com/@niefeld   \n",
       "3071                     https://medium.com/@logic2020   \n",
       "3072                      https://medium.com/@bit-team   \n",
       "3073                https://medium.com/@patrickchung41   \n",
       "\n",
       "                                               subtitle  claps responses  \\\n",
       "0                180 Data Science and Machine Learning…   1100         4   \n",
       "1                   Recommended by some of the largest…   1000        10   \n",
       "2     Hi guys, happy new year! Today we are going to...    257         4   \n",
       "3                                    How to choose the…    223         3   \n",
       "4          Clear representation of output of confusion…    190         5   \n",
       "...                                                 ...    ...       ...   \n",
       "3069                                                         0         0   \n",
       "3070                                                         0         0   \n",
       "3071                                                         0         0   \n",
       "3072                                                         0         0   \n",
       "3073                                                         0         0   \n",
       "\n",
       "      reading_time           tag        date  \n",
       "0                4  Data Science  2021-01-01  \n",
       "1                6  Data Science  2021-01-01  \n",
       "2                6  Data Science  2021-01-01  \n",
       "3                7  Data Science  2021-01-01  \n",
       "4                5  Data Science  2021-01-01  \n",
       "...            ...           ...         ...  \n",
       "3069             4     Analytics  2021-01-07  \n",
       "3070             2     Analytics  2021-01-07  \n",
       "3071             4     Analytics  2021-01-07  \n",
       "3072             3     Analytics  2021-01-07  \n",
       "3073             6     Analytics  2021-01-07  \n",
       "\n",
       "[2002 rows x 10 columns]"
      ]
     },
     "execution_count": 18,
     "metadata": {},
     "output_type": "execute_result"
    }
   ],
   "source": [
    "medium_df"
   ]
  },
  {
   "cell_type": "markdown",
   "id": "357bf600",
   "metadata": {},
   "source": [
    "## Save Collected data into csv file\n",
    "\n",
    "We save our data frame into a csv file named medium_data."
   ]
  },
  {
   "cell_type": "code",
   "execution_count": 19,
   "id": "adb0ddda",
   "metadata": {},
   "outputs": [],
   "source": [
    "medium_df.to_csv('medium-data-2021.csv', index=True)\n"
   ]
  },
  {
   "cell_type": "markdown",
   "id": "cd7a1e0e",
   "metadata": {},
   "source": [
    "Hope you enjoy this notebook, feel free to give sugestion or submit PRs.\n",
    "\n",
    "Made with love by @viniciusLambert"
   ]
  }
 ],
 "metadata": {
  "kernelspec": {
   "display_name": "Python 3 (ipykernel)",
   "language": "python",
   "name": "python3"
  },
  "language_info": {
   "codemirror_mode": {
    "name": "ipython",
    "version": 3
   },
   "file_extension": ".py",
   "mimetype": "text/x-python",
   "name": "python",
   "nbconvert_exporter": "python",
   "pygments_lexer": "ipython3",
   "version": "3.8.10"
  }
 },
 "nbformat": 4,
 "nbformat_minor": 5
}
